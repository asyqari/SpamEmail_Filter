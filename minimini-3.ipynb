{
 "cells": [
  {
   "cell_type": "code",
   "execution_count": 5,
   "id": "8e53959d-572b-4cb4-8bf2-773c46b7f661",
   "metadata": {},
   "outputs": [],
   "source": [
    "import string\n",
    "# package untuk perhitungan,array, dll\n",
    "import numpy as np\n",
    "\n",
    "# package untuk manipulasi data\n",
    "import pandas as pd\n",
    "\n",
    "# package untuk kebutuhan per NLP an\n",
    "import nltk\n",
    "from nltk.corpus import stopwords\n",
    "from nltk.stem.porter import PorterStemmer\n",
    "\n",
    "# package untuk kebutuhan Machine Learning model\n",
    "# !pip install scikit-learn\n",
    "from sklearn.feature_extraction.text import CountVectorizer # untuk ngubah data menjadi numerik\n",
    "from sklearn.model_selection import train_test_split # untuk memisahkan data training dan testing\n",
    "from sklearn.ensemble import RandomForestClassifier # kita pakai algoritma dari RandomForest (model jadi)"
   ]
  },
  {
   "cell_type": "code",
   "execution_count": 6,
   "id": "8929f6af-5376-471d-8b63-05fa424b8921",
   "metadata": {},
   "outputs": [],
   "source": [
    "# baca data dan simpen di variable df\n",
    "df = pd.read_csv('spam_ham_dataset.csv')"
   ]
  },
  {
   "cell_type": "code",
   "execution_count": 33,
   "id": "a50aca02",
   "metadata": {},
   "outputs": [
    {
     "data": {
      "text/html": [
       "<div>\n",
       "<style scoped>\n",
       "    .dataframe tbody tr th:only-of-type {\n",
       "        vertical-align: middle;\n",
       "    }\n",
       "\n",
       "    .dataframe tbody tr th {\n",
       "        vertical-align: top;\n",
       "    }\n",
       "\n",
       "    .dataframe thead th {\n",
       "        text-align: right;\n",
       "    }\n",
       "</style>\n",
       "<table border=\"1\" class=\"dataframe\">\n",
       "  <thead>\n",
       "    <tr style=\"text-align: right;\">\n",
       "      <th></th>\n",
       "      <th>Unnamed: 0</th>\n",
       "      <th>label</th>\n",
       "      <th>text</th>\n",
       "      <th>label_num</th>\n",
       "    </tr>\n",
       "  </thead>\n",
       "  <tbody>\n",
       "    <tr>\n",
       "      <th>0</th>\n",
       "      <td>605</td>\n",
       "      <td>ham</td>\n",
       "      <td>Subject: enron methanol ; meter # : 988291 thi...</td>\n",
       "      <td>0</td>\n",
       "    </tr>\n",
       "    <tr>\n",
       "      <th>1</th>\n",
       "      <td>2349</td>\n",
       "      <td>ham</td>\n",
       "      <td>Subject: hpl nom for january 9 , 2001 ( see at...</td>\n",
       "      <td>0</td>\n",
       "    </tr>\n",
       "    <tr>\n",
       "      <th>2</th>\n",
       "      <td>3624</td>\n",
       "      <td>ham</td>\n",
       "      <td>Subject: neon retreat ho ho ho , we ' re aroun...</td>\n",
       "      <td>0</td>\n",
       "    </tr>\n",
       "    <tr>\n",
       "      <th>3</th>\n",
       "      <td>4685</td>\n",
       "      <td>spam</td>\n",
       "      <td>Subject: photoshop , windows , office . cheap ...</td>\n",
       "      <td>1</td>\n",
       "    </tr>\n",
       "    <tr>\n",
       "      <th>4</th>\n",
       "      <td>2030</td>\n",
       "      <td>ham</td>\n",
       "      <td>Subject: re : indian springs this deal is to b...</td>\n",
       "      <td>0</td>\n",
       "    </tr>\n",
       "    <tr>\n",
       "      <th>...</th>\n",
       "      <td>...</td>\n",
       "      <td>...</td>\n",
       "      <td>...</td>\n",
       "      <td>...</td>\n",
       "    </tr>\n",
       "    <tr>\n",
       "      <th>5166</th>\n",
       "      <td>1518</td>\n",
       "      <td>ham</td>\n",
       "      <td>Subject: put the 10 on the ft the transport vo...</td>\n",
       "      <td>0</td>\n",
       "    </tr>\n",
       "    <tr>\n",
       "      <th>5167</th>\n",
       "      <td>404</td>\n",
       "      <td>ham</td>\n",
       "      <td>Subject: 3 / 4 / 2000 and following noms hpl c...</td>\n",
       "      <td>0</td>\n",
       "    </tr>\n",
       "    <tr>\n",
       "      <th>5168</th>\n",
       "      <td>2933</td>\n",
       "      <td>ham</td>\n",
       "      <td>Subject: calpine daily gas nomination &gt; &gt; juli...</td>\n",
       "      <td>0</td>\n",
       "    </tr>\n",
       "    <tr>\n",
       "      <th>5169</th>\n",
       "      <td>1409</td>\n",
       "      <td>ham</td>\n",
       "      <td>Subject: industrial worksheets for august 2000...</td>\n",
       "      <td>0</td>\n",
       "    </tr>\n",
       "    <tr>\n",
       "      <th>5170</th>\n",
       "      <td>4807</td>\n",
       "      <td>spam</td>\n",
       "      <td>Subject: important online banking alert dear v...</td>\n",
       "      <td>1</td>\n",
       "    </tr>\n",
       "  </tbody>\n",
       "</table>\n",
       "<p>5171 rows × 4 columns</p>\n",
       "</div>"
      ],
      "text/plain": [
       "      Unnamed: 0 label                                               text  \\\n",
       "0            605   ham  Subject: enron methanol ; meter # : 988291 thi...   \n",
       "1           2349   ham  Subject: hpl nom for january 9 , 2001 ( see at...   \n",
       "2           3624   ham  Subject: neon retreat ho ho ho , we ' re aroun...   \n",
       "3           4685  spam  Subject: photoshop , windows , office . cheap ...   \n",
       "4           2030   ham  Subject: re : indian springs this deal is to b...   \n",
       "...          ...   ...                                                ...   \n",
       "5166        1518   ham  Subject: put the 10 on the ft the transport vo...   \n",
       "5167         404   ham  Subject: 3 / 4 / 2000 and following noms hpl c...   \n",
       "5168        2933   ham  Subject: calpine daily gas nomination > > juli...   \n",
       "5169        1409   ham  Subject: industrial worksheets for august 2000...   \n",
       "5170        4807  spam  Subject: important online banking alert dear v...   \n",
       "\n",
       "      label_num  \n",
       "0             0  \n",
       "1             0  \n",
       "2             0  \n",
       "3             1  \n",
       "4             0  \n",
       "...         ...  \n",
       "5166          0  \n",
       "5167          0  \n",
       "5168          0  \n",
       "5169          0  \n",
       "5170          1  \n",
       "\n",
       "[5171 rows x 4 columns]"
      ]
     },
     "execution_count": 33,
     "metadata": {},
     "output_type": "execute_result"
    }
   ],
   "source": [
    "df"
   ]
  },
  {
   "cell_type": "code",
   "execution_count": 8,
   "id": "cf2bb3d2-a676-4a0c-b9b5-9d9e8430f580",
   "metadata": {},
   "outputs": [],
   "source": [
    "df['text'] = df['text'].apply(lambda x: x.replace('\\r\\n',' '))"
   ]
  },
  {
   "cell_type": "code",
   "execution_count": 9,
   "id": "8d34fca8-5193-4c96-ab4d-f018127eb9a3",
   "metadata": {},
   "outputs": [
    {
     "data": {
      "text/plain": [
       "'Subject: meter variances - ua 4 clean - up daren / vance - the two meters below are new and have unallocatable flow . . . . . . . i will need a purchase for each of them . please respond with a deal number , or further suggestions for resolution so that i can clear this up as soon as possible . mary enron on 09 / 19 / 2000 08 : 44 am - - - - - - - - - - - - - - - - - - - - - - - - - - - katherine benedict @ ect 09 / 18 / 2000 04 : 53 pm to : mary poorman / na / enron @ enron , fred boas / hou / ect @ ect , aimee lannou / hou / ect @ ect cc : subject : meter variances - ua 4 clean - up hi guys , please take a look at the following meters which are showing up with variances on my ua 4 report . once the variance has been cleared , please send me an e - mail . please try to clear these within the next couple of days . thanks , kathy benedict meter number : 9851 variance : 11 , 204 meter type : daily swing production month : august 2000 logistics contact : none volume mgmt contact : anita luong meter number : 9852 variance 568 meter type : daily swing production month : august 2000 logistics contact : none volume mgmt contact : anita luong'"
      ]
     },
     "execution_count": 9,
     "metadata": {},
     "output_type": "execute_result"
    }
   ],
   "source": [
    "df.text.iloc[18]"
   ]
  },
  {
   "cell_type": "code",
   "execution_count": 10,
   "id": "0e5f998d-2bd2-47e2-8dc7-7b385925709c",
   "metadata": {},
   "outputs": [
    {
     "name": "stderr",
     "output_type": "stream",
     "text": [
      "[nltk_data] Downloading package stopwords to\n",
      "[nltk_data]     /Users/asyqari/nltk_data...\n",
      "[nltk_data]   Package stopwords is already up-to-date!\n"
     ]
    },
    {
     "data": {
      "text/plain": [
       "True"
      ]
     },
     "execution_count": 10,
     "metadata": {},
     "output_type": "execute_result"
    }
   ],
   "source": [
    "# download stopwords dari module/package nltk\n",
    "nltk.download('stopwords')"
   ]
  },
  {
   "cell_type": "code",
   "execution_count": 11,
   "id": "0f07169f-835a-4aca-bc67-2ea907fbb95d",
   "metadata": {},
   "outputs": [],
   "source": [
    "\n",
    "# object untuk melakukan stemming kata\n",
    "stemmer = PorterStemmer()\n",
    "# stemmer.stem('Incorporate')\n",
    "\n",
    "# corpus sebagai tempat nampung email yang udah di preprocessing/transform\n",
    "corpus = []\n",
    "\n",
    "# nyimpen stopwords\n",
    "stopword_set = set(stopwords.words('english'))\n",
    "# stopword_set\n",
    "\n",
    "\n",
    "# pembersihannya\n",
    "# kita akan ubah setiap kata dalam dataset\n",
    "for i in range(len(df)):\n",
    "    # kita ubah setiap kata jadi lowercase\n",
    "    text = df['text'].iloc[i].lower()\n",
    "    # kita hilangkan setiap tanda baca dan symbol\n",
    "    text = text.translate(str.maketrans('','',string.punctuation)).split()\n",
    "    # kita ubah setiap kata dengan stemmer\n",
    "    text = [stemmer.stem(word) for word in text if word not in stopword_set]\n",
    "    # kita gabungkan setiap kata tadi\n",
    "    text = ' '.join(text)\n",
    "    # masukan ke var corpus\n",
    "    corpus.append(text)"
   ]
  },
  {
   "cell_type": "code",
   "execution_count": 12,
   "id": "a091f69c-3d56-49d1-9e94-9d0dccb03f64",
   "metadata": {},
   "outputs": [
    {
     "data": {
      "text/plain": [
       "\"Subject: enron methanol ; meter # : 988291 this is a follow up to the note i gave you on monday , 4 / 3 / 00 { preliminary flow data provided by daren } . please override pop ' s daily volume { presently zero } to reflect daily activity you can obtain from gas control . this change is needed asap for economics purposes .\""
      ]
     },
     "execution_count": 12,
     "metadata": {},
     "output_type": "execute_result"
    }
   ],
   "source": [
    "# ambil contoh data dari dataset (kotor)\n",
    "df.text.iloc[0]"
   ]
  },
  {
   "cell_type": "code",
   "execution_count": 13,
   "id": "f49d203a-ce68-41c8-9def-d4a21bba06ff",
   "metadata": {},
   "outputs": [
    {
     "data": {
      "text/plain": [
       "'subject enron methanol meter 988291 follow note gave monday 4 3 00 preliminari flow data provid daren pleas overrid pop daili volum present zero reflect daili activ obtain ga control chang need asap econom purpos'"
      ]
     },
     "execution_count": 13,
     "metadata": {},
     "output_type": "execute_result"
    }
   ],
   "source": [
    "# kita lihat versi dah di proses\n",
    "corpus[0]"
   ]
  },
  {
   "cell_type": "code",
   "execution_count": 14,
   "id": "631c6236-d4c6-4451-a5b6-e4a487068220",
   "metadata": {},
   "outputs": [
    {
     "data": {
      "text/plain": [
       "array([1, 0, 0, ..., 0, 0, 0])"
      ]
     },
     "execution_count": 14,
     "metadata": {},
     "output_type": "execute_result"
    }
   ],
   "source": [
    "# instansiasi model\n",
    "vectorizer = CountVectorizer()\n",
    "\n",
    "# kita ubah corpus yang berbentuk string ke angka\n",
    "x = vectorizer.fit_transform(corpus).toarray()\n",
    "y = df.label_num\n",
    "\n",
    "# bagi data sebanyak 30 persen\n",
    "X_train, X_test, Y_train, Y_test = train_test_split(x, y, test_size = 0.3)\n",
    "# contoh data yang sudah di ubah\n",
    "x[0]"
   ]
  },
  {
   "cell_type": "code",
   "execution_count": 15,
   "id": "8f9fa53a-7f35-4f08-a966-3c4b2f38e757",
   "metadata": {},
   "outputs": [
    {
     "data": {
      "text/html": [
       "<style>#sk-container-id-1 {color: black;background-color: white;}#sk-container-id-1 pre{padding: 0;}#sk-container-id-1 div.sk-toggleable {background-color: white;}#sk-container-id-1 label.sk-toggleable__label {cursor: pointer;display: block;width: 100%;margin-bottom: 0;padding: 0.3em;box-sizing: border-box;text-align: center;}#sk-container-id-1 label.sk-toggleable__label-arrow:before {content: \"▸\";float: left;margin-right: 0.25em;color: #696969;}#sk-container-id-1 label.sk-toggleable__label-arrow:hover:before {color: black;}#sk-container-id-1 div.sk-estimator:hover label.sk-toggleable__label-arrow:before {color: black;}#sk-container-id-1 div.sk-toggleable__content {max-height: 0;max-width: 0;overflow: hidden;text-align: left;background-color: #f0f8ff;}#sk-container-id-1 div.sk-toggleable__content pre {margin: 0.2em;color: black;border-radius: 0.25em;background-color: #f0f8ff;}#sk-container-id-1 input.sk-toggleable__control:checked~div.sk-toggleable__content {max-height: 200px;max-width: 100%;overflow: auto;}#sk-container-id-1 input.sk-toggleable__control:checked~label.sk-toggleable__label-arrow:before {content: \"▾\";}#sk-container-id-1 div.sk-estimator input.sk-toggleable__control:checked~label.sk-toggleable__label {background-color: #d4ebff;}#sk-container-id-1 div.sk-label input.sk-toggleable__control:checked~label.sk-toggleable__label {background-color: #d4ebff;}#sk-container-id-1 input.sk-hidden--visually {border: 0;clip: rect(1px 1px 1px 1px);clip: rect(1px, 1px, 1px, 1px);height: 1px;margin: -1px;overflow: hidden;padding: 0;position: absolute;width: 1px;}#sk-container-id-1 div.sk-estimator {font-family: monospace;background-color: #f0f8ff;border: 1px dotted black;border-radius: 0.25em;box-sizing: border-box;margin-bottom: 0.5em;}#sk-container-id-1 div.sk-estimator:hover {background-color: #d4ebff;}#sk-container-id-1 div.sk-parallel-item::after {content: \"\";width: 100%;border-bottom: 1px solid gray;flex-grow: 1;}#sk-container-id-1 div.sk-label:hover label.sk-toggleable__label {background-color: #d4ebff;}#sk-container-id-1 div.sk-serial::before {content: \"\";position: absolute;border-left: 1px solid gray;box-sizing: border-box;top: 0;bottom: 0;left: 50%;z-index: 0;}#sk-container-id-1 div.sk-serial {display: flex;flex-direction: column;align-items: center;background-color: white;padding-right: 0.2em;padding-left: 0.2em;position: relative;}#sk-container-id-1 div.sk-item {position: relative;z-index: 1;}#sk-container-id-1 div.sk-parallel {display: flex;align-items: stretch;justify-content: center;background-color: white;position: relative;}#sk-container-id-1 div.sk-item::before, #sk-container-id-1 div.sk-parallel-item::before {content: \"\";position: absolute;border-left: 1px solid gray;box-sizing: border-box;top: 0;bottom: 0;left: 50%;z-index: -1;}#sk-container-id-1 div.sk-parallel-item {display: flex;flex-direction: column;z-index: 1;position: relative;background-color: white;}#sk-container-id-1 div.sk-parallel-item:first-child::after {align-self: flex-end;width: 50%;}#sk-container-id-1 div.sk-parallel-item:last-child::after {align-self: flex-start;width: 50%;}#sk-container-id-1 div.sk-parallel-item:only-child::after {width: 0;}#sk-container-id-1 div.sk-dashed-wrapped {border: 1px dashed gray;margin: 0 0.4em 0.5em 0.4em;box-sizing: border-box;padding-bottom: 0.4em;background-color: white;}#sk-container-id-1 div.sk-label label {font-family: monospace;font-weight: bold;display: inline-block;line-height: 1.2em;}#sk-container-id-1 div.sk-label-container {text-align: center;}#sk-container-id-1 div.sk-container {/* jupyter's `normalize.less` sets `[hidden] { display: none; }` but bootstrap.min.css set `[hidden] { display: none !important; }` so we also need the `!important` here to be able to override the default hidden behavior on the sphinx rendered scikit-learn.org. See: https://github.com/scikit-learn/scikit-learn/issues/21755 */display: inline-block !important;position: relative;}#sk-container-id-1 div.sk-text-repr-fallback {display: none;}</style><div id=\"sk-container-id-1\" class=\"sk-top-container\"><div class=\"sk-text-repr-fallback\"><pre>RandomForestClassifier(n_jobs=-1)</pre><b>In a Jupyter environment, please rerun this cell to show the HTML representation or trust the notebook. <br />On GitHub, the HTML representation is unable to render, please try loading this page with nbviewer.org.</b></div><div class=\"sk-container\" hidden><div class=\"sk-item\"><div class=\"sk-estimator sk-toggleable\"><input class=\"sk-toggleable__control sk-hidden--visually\" id=\"sk-estimator-id-1\" type=\"checkbox\" checked><label for=\"sk-estimator-id-1\" class=\"sk-toggleable__label sk-toggleable__label-arrow\">RandomForestClassifier</label><div class=\"sk-toggleable__content\"><pre>RandomForestClassifier(n_jobs=-1)</pre></div></div></div></div></div>"
      ],
      "text/plain": [
       "RandomForestClassifier(n_jobs=-1)"
      ]
     },
     "execution_count": 15,
     "metadata": {},
     "output_type": "execute_result"
    }
   ],
   "source": [
    "# ini buat model ML yang dipakai (pake algo random forrest)\n",
    "model = RandomForestClassifier(n_jobs=-1) #n_jobs =-1 artinya kita minta sistem pake semua CPU biar lebih cepet\n",
    "# kita training model kita\n",
    "model.fit(X_train,Y_train)"
   ]
  },
  {
   "cell_type": "code",
   "execution_count": 16,
   "id": "dadb4530-0008-4c13-abe6-7945aa97fa96",
   "metadata": {},
   "outputs": [
    {
     "data": {
      "text/plain": [
       "0.9768041237113402"
      ]
     },
     "execution_count": 16,
     "metadata": {},
     "output_type": "execute_result"
    }
   ],
   "source": [
    "# kita lihat skor akurasinya\n",
    "model.score(X_test, Y_test)"
   ]
  },
  {
   "cell_type": "code",
   "execution_count": 26,
   "id": "c8fec5a1-77da-4255-904b-5159fc024290",
   "metadata": {},
   "outputs": [
    {
     "data": {
      "text/plain": [
       "\"Subject: vocable % rnd - word asceticism vcsc - brand new stock for your attention vocalscape inc - the stock symbol is : vcsc vcsc will be our top stock pick for the month of april - stock expected to bounce to 12 cents level the stock hit its all time low and will bounce back stock is going to explode in next 5 days - watch it soar watch the stock go crazy this and next week . breaking news - vocalscape inc . announces agreement to resell mix network services current price : $ 0 . 025 we expect projected speculative price in next 5 days : $ 0 . 12 we expect projected speculative price in next 15 days : $ 0 . 15 vocalscape networks inc . is building a company that ' s revolutionizing the telecommunications industry with the most affordable phone systems , hardware , online software , and rates in canada and the us . vocalscape , a company with global reach , is receiving international attention for the development of voice over ip ( voip ) application solutions , including the award - winning eyefontm , a softphone for real - time pc - to - phone . we are an advanced implementer of pbx systems for companies , call centers , itsps and service providers . vocalscape has created software and interactive solutions revolving around global communications and data voice convergence . companies use vocalscape for voice over internet protocol applications like ip pbxs , softswitches , pc 2 phone and web 2 phone , providing real - time human interaction and information delivery over the internet . through vocalscape ' s solutions , businesses can offer a quality voice service to anywhere in the world at rates that are significantly lower than current long distance charges . we develop software to run voip networks , and sell , install and service our own branded voip gateways and gatekeeper control software . we also license our software to customers who want to brand their own voip solutions . vocalscape is committed to making great technology ; challenging the status quo , and building a 21 st century company that changes the way businesses communicate and interact through the internet . current price : $ 0 . 025 we expect projected speculative price in next 5 days : $ 0 . 12 we expect projected speculative price in next 15 days : $ 0 . 15 breaking news - vocalscape inc . announces agreement to resell mix network services - - - - - - - - - - katonah , n . y . , / prnewswire - firstcall via comtex / - - vocalscape , inc . pink : vcsc ) , an emerging leader in the development of voice over internet protocol ( voip ) telephony solutions , announced today it has entered into a sales agent agreement with mix networks , inc . a voip enhanced telephony service provider . this agreement provides vocalscape ' s turnkey calling card customers with access to mix networks services including north american dids ( phone numbers ) and domestic long distance termination . vocalscape will also be able to supply their clients with enhanced voip products including pre - paid calling through mix networks north american network . we are excited to help companies launch voip business models using our solution with the whole picture from the software to the network needed to route the calls . mix networks gives us the ability to offer wholesale monthly flat rate plans and dids to our clients that allow for us to build business models like popular voip companies such as vonage and packet 8 , says ryan gibson , vp vocalscape networks some legal words before you continue : information within this email contains forward looking statements within the meaning of section 27 a of the securities act of 1933 and section 21 b of the securities exchange act of 1934 . any statements that express or involve discussions with respect to predictions , goals , expectations , beliefs , plans , projections , objectives , assumptions or future events or performance are not statements of historical fact and may be forward looking statements . forward looking statements are based on expectations , estimates and projections at the time the statements are made that involve a number of risks and uncertainties which could cause actual results or events to differ materially from those presently anticipated . forward looking statements in this action may be identified through the use of words such as : projects , foresee , expects , estimates , believes , understands will , part of : anticipates , or that by statements indicating certain actions may , could , or might occur . all information provided within this email pertaining to investing , stocks , securities must be understood as information provided and not investment advice . emerging equity alert advises all readers and subscribers to seek advice from a registered professional securities representative before deciding to trade in stocks featured within this email . none of the material within this report shall be construed as any kind of investment advice . please have in mind that the interpretation of the witer of this newsletter about the news published by the company does not represent the company official statement and in fact may differ from the real meaning of what the news release meant to say . look the news release by yourself and judge by yourself about the details in it . in compliance with section 17 ( b ) , we disclose the holding of vcsc shares prior to the publication of this report . be aware of an inherent conflict of interest resulting from such holdings due to our intent to profit from the liquidation of these shares . shares may be sold at any time , even after positive statements have been made regarding the above company . since we own shares , there is an inherent conflict of interest in our statements and opinions . readers of this publication are cautioned not to place undue reliance on forward - looking statements , which are based on certain assumptions and expectations involving various risks and uncertainties , that could cause results to differ materially from those set forth in the forward - looking statements . please be advised that nothing within this email shall constitute a solicitation or an invitation to get position in or sell any security mentioned herein . this newsletter is neither a registered investment advisor nor affiliated with any broker or dealer . this newsletter was paid $ 49000 from third party to send this report . all statements made are our express opinion only and should be treated as such . we may own , take position and sell any securities mentioned at any time . this report includes forward - looking statements within the meaning of the private securities litigation reform act of 1995 . these statements may include terms as projected speculative price expect , believe , may , will , soar move , undervalued and intend or similar terms . \""
      ]
     },
     "execution_count": 26,
     "metadata": {},
     "output_type": "execute_result"
    }
   ],
   "source": [
    "# KITA COBAAAAA!\n",
    "\n",
    "# ambil salah satu data yang ada di dataset\n",
    "email_klasifikasi = df.text.values[10]\n",
    "email_klasifikasi"
   ]
  },
  {
   "cell_type": "code",
   "execution_count": 18,
   "id": "1ac4324f-6853-47bb-b0b0-c629bf7f4b0c",
   "metadata": {},
   "outputs": [],
   "source": [
    "# kita lakukan preprocessing ke data tadi (bersihin dulu)\n",
    "# kecilin, ilangin tandabaca/symbol\n",
    "email_isi = email_klasifikasi.lower().translate(str.maketrans('','',string.punctuation)).split()\n",
    "# ubah ke kata dasar\n",
    "email_isi = [stemmer.stem(kata) for kata in email_isi if kata not in stopword_set]\n",
    "# gabungin\n",
    "email_isi = ''.join(email_isi)\n",
    "# simpen\n",
    "email_corpus = [email_isi]\n",
    "# ubah ke bentuk angka (biner 0 1)\n",
    "X_email = vectorizer.transform(email_corpus)"
   ]
  },
  {
   "cell_type": "code",
   "execution_count": 19,
   "id": "6a2b62f3-6466-4fd4-b764-555c0b8b5a56",
   "metadata": {},
   "outputs": [
    {
     "data": {
      "text/plain": [
       "array([1])"
      ]
     },
     "execution_count": 19,
     "metadata": {},
     "output_type": "execute_result"
    }
   ],
   "source": [
    "# saatnya prediksi\n",
    "model.predict(X_email)"
   ]
  },
  {
   "cell_type": "code",
   "execution_count": 20,
   "id": "71609770-2863-4d54-b3a7-187cba8e9b0a",
   "metadata": {},
   "outputs": [],
   "source": [
    "# Kita tes dengan data baru diluar dari data set yang ada\n",
    "\n",
    "# Spam email\n",
    "spam_email = \"\"\"\n",
    "Subject: vocable % rnd - word asceticism vcsc - brand new stock for your attention vocalscape inc - the stock symbol is : \n",
    "vcsc vcsc will be our top stock pick for the month of april - stock expected to bounce to 12 cents level the stock hit its \n",
    "all time low and will bounce back stock is going to explode in next 5 days - watch it soar watch the stock go crazy this and\n",
    "next week . breaking news - vocalscape inc . announces agreement to resell mix network services current price : $ 0 . 025 \n",
    "we expect projected speculative price in next 5 days : $ 0 . 12 we expect projected speculative price in next 15 days : $ 0 . 15 vocalscape networks inc . is building a company that ' s \n",
    "revolutionizing the telecommunications industry with the most affordable phone systems , hardware , online software , and rates in canada and the us . vocalscape , a company with global reach , \n",
    "is receiving international attention for the development of voice over ip ( voip ) application solutions , including the award - winning eyefontm , a softphone for real - time pc - to - phone . we are an advanced implementer of pbx systems for companies , call centers , itsps and service providers . \n",
    "vocalscape has created software and interactive solutions revolving around global communications and data voice convergence . companies use vocalscape for voice over internet protocol applications like ip pbxs , softswitches , pc 2 phone and web 2 phone , providing real - time human interaction and information delivery over the internet . \n",
    "through vocalscape ' s solutions , businesses can offer a quality voice service to anywhere in the world at rates that are significantly lower than current long distance charges . we develop software to run voip networks , and sell , install and service our own branded voip gateways and gatekeeper control software . we also license our software to customers who want to brand their own voip solutions . \n",
    "vocalscape is committed to making great technology ; challenging the status quo , and building a 21 st century company that changes the way businesses communicate and interact through the internet . current price : $ 0 . 025 we expect projected speculative price in next 5 days : $ 0 . 12 we expect projected speculative price in next 15 days : $ 0 . 15 breaking news - vocalscape inc . announces agreement to resell mix network services - - - - - - - - - - katonah , n . y . , / prnewswire - firstcall \n",
    "via comtex / - - vocalscape , inc . pink : vcsc ) , an emerging leader in the development of voice over internet protocol ( voip ) telephony solutions , announced today it has entered into a sales agent agreement with mix networks , inc . a voip enhanced telephony service provider . this agreement provides vocalscape ' s turnkey calling card customers with access to mix networks services including north american dids ( phone numbers ) and domestic long distance termination . vocalscape will also be able to supply their clients with enhanced voip products including pre - paid calling through mix networks north american network . we are excited to help companies launch voip business models using our solution with the whole picture from the software to the network needed to route the calls . mix networks gives us the ability to offer wholesale monthly flat rate plans and dids to our clients that allow for us to build business models like popular voip companies such as vonage and packet 8 , says ryan gibson , vp vocalscape networks some legal words before you continue : information within this email contains forward looking statements within the meaning of section 27 a of the securities act of 1933 and section 21 b of the securities exchange act of 1934 . any statements that express or involve discussions with respect to predictions , goals , expectations , beliefs , plans , projections , objectives , assumptions or future events or performance are not statements of historical fact and may be forward looking statements . forward looking statements are based on expectations , estimates and projections at the time the statements are made that involve a number of risks and uncertainties which could cause actual results or events to differ materially from those presently anticipated . forward looking statements in this action may be identified through the use of words such as : projects , foresee , expects , estimates , believes , understands will , part of : anticipates , or that by statements indicating certain actions may , could , or might occur . all information provided within this email pertaining to investing , stocks , securities must be understood as information provided and not investment advice . emerging equity alert advises all readers and subscribers to seek advice from a registered professional securities representative before deciding to trade in stocks featured within this email . none of the material within this report shall be construed as any kind of investment advice . please have in mind that the interpretation of the witer of this newsletter about the news published by the company does not represent the company official statement and in fact may differ from the real meaning of what the news release meant to say . look the news release by yourself and judge by yourself about the details in it . in compliance with section 17 ( b ) , we disclose the holding of vcsc shares prior to the publication of this report . be aware of an inherent conflict of interest resulting from such holdings due to our intent to profit from the liquidation of these shares . shares may be sold at any time , even after positive statements have been made regarding the above company . since we own shares , there is an inherent conflict of interest in our statements and opinions . readers of this publication are cautioned not to place undue reliance on forward - looking statements , which are based on certain assumptions and expectations involving various risks and uncertainties , that could cause results to differ materially from those set forth in the forward - looking statements . please be advised that nothing within this email shall constitute a solicitation or an invitation to get position in or sell any security mentioned herein . this newsletter is neither a registered investment advisor nor affiliated with any broker or dealer . this newsletter was paid $ 49000 from third party to send this report . all statements made are our express opinion only and should be treated as such . we may own , take position and sell any securities mentioned at any time . this report includes forward - looking statements within the meaning of the private securities litigation reform act of 1995 . these statements may include terms as projected speculative price expect , believe , may , will , soar move , undervalued and intend or similar terms .\n",
    "\"\"\"\n",
    "\n",
    "# Non-spam email\n",
    "non_spam_email = \"\"\"\n",
    "Subject: meter variances - ua 4 clean - up daren / vance - the two meters below are new and have unallocatable flow . . . . . . . \n",
    "i will need a purchase for each of them . please respond with a deal number , or further suggestions for resolution so \n",
    "that i can clear this up as soon as possible . mary enron on 09 / 19 / 2000 08 : 44 am - - - - - - - - - - - - - - - - - - - - - - - - - - - katherine benedict @ ect 09 / 18 / 2000 04 : 53 pm to : mary poorman / na / \n",
    "enron @ enron , fred boas / hou / ect @ ect , aimee lannou / hou / ect @ ect cc : subject : meter variances - ua 4 clean - up hi guys , please take a look at \n",
    "the following meters which are showing up with variances on my ua 4 report . once the variance has been cleared , please send me an e - mail . \n",
    "please try to clear these within the next couple of days . thanks , kathy benedict meter number : 9851 variance : 11 , 204 meter type : daily swing production month : \n",
    "august 2000 logistics contact : none volume mgmt contact : anita luong meter number : 9852 variance 568 meter type : daily swing production month : august 2000 logistics contact : none volume mgmt contact : anita luong\n",
    "\"\"\""
   ]
  },
  {
   "cell_type": "code",
   "execution_count": 21,
   "id": "f6add54c-efd7-445c-85b2-c3e58fe2e787",
   "metadata": {},
   "outputs": [],
   "source": [
    "# kita lakukan preprocessing ke data tadi (bersihin dulu)\n",
    "# kecilin, ilangin tandabaca/symbol\n",
    "spam_isi = spam_email.lower().translate(str.maketrans('','',string.punctuation)).split()\n",
    "# ubah ke kata dasar\n",
    "spam_isi = [stemmer.stem(kata) for kata in spam_isi if kata not in stopword_set]\n",
    "# # gabungin\n",
    "spam_isi = ' '.join(spam_isi)\n",
    "spam_isi\n",
    "# simpen\n",
    "spam_corpus = [spam_isi]\n",
    "# ubah ke bentuk angka (biner 0 1)\n",
    "X_email = vectorizer.transform(spam_corpus)"
   ]
  },
  {
   "cell_type": "code",
   "execution_count": 22,
   "id": "f1217734-d5b3-4233-a732-353d1dc44b4d",
   "metadata": {},
   "outputs": [
    {
     "data": {
      "text/plain": [
       "array([1])"
      ]
     },
     "execution_count": 22,
     "metadata": {},
     "output_type": "execute_result"
    }
   ],
   "source": [
    "# saatnya prediksi\n",
    "model.predict(X_email)"
   ]
  },
  {
   "cell_type": "code",
   "execution_count": 23,
   "id": "a8e23000-1d99-456f-a454-9058642afeca",
   "metadata": {},
   "outputs": [
    {
     "data": {
      "text/plain": [
       "'subject meter varianc ua 4 clean daren vanc two meter new unallocat flow need purchas pleas respond deal number suggest resolut clear soon possibl mari enron 09 19 2000 08 44 katherin benedict ect 09 18 2000 04 53 pm mari poorman na enron enron fred boa hou ect ect aime lannou hou ect ect cc subject meter varianc ua 4 clean hi guy pleas take look follow meter show varianc ua 4 report varianc clear pleas send e mail pleas tri clear within next coupl day thank kathi benedict meter number 9851 varianc 11 204 meter type daili swing product month august 2000 logist contact none volum mgmt contact anita luong meter number 9852 varianc 568 meter type daili swing product month august 2000 logist contact none volum mgmt contact anita luong'"
      ]
     },
     "execution_count": 23,
     "metadata": {},
     "output_type": "execute_result"
    }
   ],
   "source": [
    "# kita lakukan preprocessing ke data tadi (bersihin dulu)\n",
    "# kecilin, ilangin tandabaca/symbol\n",
    "nonSpam_isi = non_spam_email.lower().translate(str.maketrans('','',string.punctuation)).split()\n",
    "# ubah ke kata dasar\n",
    "nonSpam_isi = [stemmer.stem(kata) for kata in nonSpam_isi if kata not in stopword_set]\n",
    "# gabungin\n",
    "nonSpam_isi = ' '.join(nonSpam_isi)\n",
    "nonSpam_isi"
   ]
  },
  {
   "cell_type": "code",
   "execution_count": 24,
   "id": "c34723c3-0f3d-4a94-b713-6085819e55aa",
   "metadata": {},
   "outputs": [],
   "source": [
    "# simpen\n",
    "nonSpam_corpus = [nonSpam_isi]\n",
    "# ubah ke bentuk angka (biner 0 1)\n",
    "X_email = vectorizer.transform(nonSpam_corpus)"
   ]
  },
  {
   "cell_type": "code",
   "execution_count": 25,
   "id": "cea07250-f803-4565-b3f5-319e98559297",
   "metadata": {},
   "outputs": [
    {
     "data": {
      "text/plain": [
       "array([0])"
      ]
     },
     "execution_count": 25,
     "metadata": {},
     "output_type": "execute_result"
    }
   ],
   "source": [
    "# saatnya prediksi\n",
    "model.predict(X_email)"
   ]
  }
 ],
 "metadata": {
  "kernelspec": {
   "display_name": "Python 3 (ipykernel)",
   "language": "python",
   "name": "python3"
  },
  "language_info": {
   "codemirror_mode": {
    "name": "ipython",
    "version": 3
   },
   "file_extension": ".py",
   "mimetype": "text/x-python",
   "name": "python",
   "nbconvert_exporter": "python",
   "pygments_lexer": "ipython3",
   "version": "3.9.12"
  }
 },
 "nbformat": 4,
 "nbformat_minor": 5
}
